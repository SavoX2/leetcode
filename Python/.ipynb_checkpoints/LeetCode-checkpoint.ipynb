{
 "cells": [
  {
   "cell_type": "markdown",
   "metadata": {},
   "source": [
    "1. Two Sum:\n",
    "Given an array of integers, return indices of the two numbers such that they add up to a specific target.\n",
    "\n",
    "You may assume that each input would have exactly one solution, and you may not use the same element twice.\n",
    "\n",
    "Example:\n",
    "\n",
    "Given nums = [2, 7, 11, 15], target = 9,\n",
    "\n",
    "Because nums[0] + nums[1] = 2 + 7 = 9,\n",
    "return [0, 1]."
   ]
  },
  {
   "cell_type": "code",
   "execution_count": 8,
   "metadata": {},
   "outputs": [
    {
     "name": "stdout",
     "output_type": "stream",
     "text": [
      "{7: 0, 2: 1, -2: 2, -6: 3}\n",
      "[0, 1]\n"
     ]
    }
   ],
   "source": [
    "import numpy as np\n",
    "\n",
    "nums = np.array([2, 7, 11, 15])\n",
    "target = 9\n",
    "\n",
    "class Solution(object):\n",
    "    def twoSum(self, nums, target):\n",
    "        \"\"\"\n",
    "        :type nums: List[int]\n",
    "        :type target: int\n",
    "        :rtype: List[int]\n",
    "        \"\"\"\n",
    "        dictionary = {}\n",
    "        for index, el in enumerate(nums):\n",
    "            if (target - el) in dictionary:\n",
    "                return list([dictionary[target - el], index])\n",
    "            else:\n",
    "                dictionary[el] = index\n",
    "        return list([0, 0])\n",
    "    \n",
    "    print(dictionary)\n",
    "\n",
    "sol = Solution()\n",
    "print(sol.twoSum(nums, target))"
   ]
  },
  {
   "cell_type": "markdown",
   "metadata": {},
   "source": [
    "Runtime: 28 ms, faster than 97.59% of Python online submissions for Two Sum.\n",
    "Memory Usage: 13.2 MB, less than 25.00% of Python online submissions for Two Sum."
   ]
  },
  {
   "cell_type": "markdown",
   "metadata": {},
   "source": [
    "2. Add Two Numbers\n",
    "You are given two non-empty linked lists representing two non-negative integers. The digits are stored in reverse order and each of their nodes contain a single digit. Add the two numbers and return it as a linked list.\n",
    "\n",
    "You may assume the two numbers do not contain any leading zero, except the number 0 itself.\n",
    "\n",
    "Example:\n",
    "\n",
    "Input: (2 -> 4 -> 3) + (5 -> 6 -> 4)\n",
    "Output: 7 -> 0 -> 8\n",
    "Explanation: 342 + 465 = 807."
   ]
  },
  {
   "cell_type": "code",
   "execution_count": 41,
   "metadata": {},
   "outputs": [
    {
     "name": "stdout",
     "output_type": "stream",
     "text": [
      "5\n",
      "5\n",
      "0 -> 1\n"
     ]
    }
   ],
   "source": [
    "# Definition for singly-linked list.\n",
    "class ListNode(object):\n",
    "    def __init__(self, x):\n",
    "        self.val = x\n",
    "        self.next = None\n",
    "\n",
    "l1 = ListNode(5)\n",
    "# l11 = ListNode(4)\n",
    "# l1.next = l11\n",
    "# l111 = ListNode(3)\n",
    "# l11.next = l111\n",
    "\n",
    "l2 = ListNode(5)\n",
    "# l22 = ListNode(6)\n",
    "# l2.next = l22\n",
    "# l222 = ListNode(4)\n",
    "# l22.next = l222\n",
    "\n",
    "def printList(l):\n",
    "    temp = l\n",
    "    to_print = ''\n",
    "    while temp != None:\n",
    "#         print(temp.val)\n",
    "        to_print += str(temp.val)\n",
    "        if temp.next != None:\n",
    "            to_print += ' -> '\n",
    "        temp = temp.next\n",
    "    print(to_print)\n",
    "        \n",
    "printList(l1)\n",
    "printList(l2)\n",
    "\n",
    "class Solution(object):\n",
    "    def addTwoNumbers(self, l1, l2):\n",
    "        \"\"\"\n",
    "        :type l1: ListNode\n",
    "        :type l2: ListNode\n",
    "        :rtype: ListNode\n",
    "        \"\"\"\n",
    "        val = l1.val + l2.val\n",
    "        node = ListNode(val % 10)\n",
    "        root = node\n",
    "        remainder = val // 10\n",
    "        l1 = l1.next\n",
    "        l2 = l2.next\n",
    "        \n",
    "        while l1 != None or l2 != None or remainder != 0:\n",
    "            val = 0\n",
    "            if l1 != None and l2 != None:\n",
    "                val = l1.val + l2.val + remainder\n",
    "                l1 = l1.next\n",
    "                l2 = l2.next\n",
    "            elif l1 == None and l2 == None:\n",
    "                val = remainder\n",
    "            elif l1 == None:\n",
    "                val = l2.val + remainder\n",
    "                l2= l2.next\n",
    "            else:\n",
    "                val = l1.val + remainder\n",
    "                l1 = l1.next\n",
    "            node.next = ListNode(val % 10)\n",
    "            node = node.next\n",
    "            remainder = val // 10\n",
    "        \n",
    "        return root\n",
    "\n",
    "sol = Solution()\n",
    "printList(sol.addTwoNumbers(l1, l2))"
   ]
  },
  {
   "cell_type": "markdown",
   "metadata": {},
   "source": [
    "Runtime: 48 ms, faster than 93.07% of Python online submissions for Add Two Numbers.\n",
    "Memory Usage: 11.9 MB, less than 33.82% of Python online submissions for Add Two Numbers."
   ]
  },
  {
   "cell_type": "code",
   "execution_count": null,
   "metadata": {},
   "outputs": [],
   "source": [
    "3. Longest Substring Without Repeating Characters\n",
    "Given a string, find the length of the longest substring without repeating characters.\n",
    "\n",
    "Example 1:\n",
    "\n",
    "Input: \"abcabcbb\"\n",
    "Output: 3 \n",
    "Explanation: The answer is \"abc\", with the length of 3. \n",
    "Example 2:\n",
    "\n",
    "Input: \"bbbbb\"\n",
    "Output: 1\n",
    "Explanation: The answer is \"b\", with the length of 1.\n",
    "Example 3:\n",
    "\n",
    "Input: \"pwwkew\"\n",
    "Output: 3\n",
    "Explanation: The answer is \"wke\", with the length of 3. \n",
    "             Note that the answer must be a substring, \"pwke\" is a subsequence and not a substring."
   ]
  },
  {
   "cell_type": "code",
   "execution_count": 75,
   "metadata": {},
   "outputs": [
    {
     "name": "stdout",
     "output_type": "stream",
     "text": [
      "3\n",
      "1\n",
      "3\n",
      "4\n"
     ]
    }
   ],
   "source": [
    "class Solution(object):\n",
    "    def lengthOfLongestSubstring(self, s):\n",
    "        \"\"\"\n",
    "        :type s: str\n",
    "        :rtype: int\n",
    "        \"\"\"\n",
    "        substr = ''\n",
    "        longest = 0\n",
    "        for char in s:\n",
    "            if char in substr:\n",
    "                if len(substr) > longest:\n",
    "                    longest = len(substr)\n",
    "                substr = substr[substr.index(char) + 1:]\n",
    "            substr += char\n",
    "        if len(substr) > longest:\n",
    "            longest = len(substr)\n",
    "        return longest\n",
    "    \n",
    "sol = Solution()\n",
    "print(sol.lengthOfLongestSubstring('abcabcbb'))\n",
    "print(sol.lengthOfLongestSubstring('bbbbb'))\n",
    "print(sol.lengthOfLongestSubstring('pwwkew'))\n",
    "print(sol.lengthOfLongestSubstring('jbpnbwwd'))"
   ]
  },
  {
   "cell_type": "markdown",
   "metadata": {},
   "source": [
    "Runtime: 24 ms, faster than 99.78% of Python online submissions for Longest Substring Without Repeating Characters.\n",
    "Memory Usage: 12 MB, less than 81.25% of Python online submissions for Longest Substring Without Repeating Characters."
   ]
  },
  {
   "cell_type": "code",
   "execution_count": null,
   "metadata": {},
   "outputs": [],
   "source": []
  }
 ],
 "metadata": {
  "kernelspec": {
   "display_name": "Python 3",
   "language": "python",
   "name": "python3"
  },
  "language_info": {
   "codemirror_mode": {
    "name": "ipython",
    "version": 3
   },
   "file_extension": ".py",
   "mimetype": "text/x-python",
   "name": "python",
   "nbconvert_exporter": "python",
   "pygments_lexer": "ipython3",
   "version": "3.7.4"
  }
 },
 "nbformat": 4,
 "nbformat_minor": 4
}
